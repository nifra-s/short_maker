{
 "cells": [
  {
   "cell_type": "markdown",
   "metadata": {},
   "source": [
    "# Short Maker\n",
    "## Automated Short-Form Video Generation and Uploading Script\n",
    "\n",
    "## Overview\n",
    "This Python script automates the entire process of generating short-form videos (such as TikTok or YouTube Shorts), from topic selection to video uploading. The script dynamically selects a topic, generates video prompts, creates scripts, scrapes images, generates audio and subtitles, and finally combines everything into a video for automatic upload. This script is ideal for content creators looking to automate video production.\n",
    "\n",
    "---"
   ]
  },
  {
   "cell_type": "code",
   "execution_count": 1,
   "metadata": {},
   "outputs": [],
   "source": [
    "from maker import prompt, script, vocal, video, image, uploader\n",
    "from datetime import datetime\n",
    "from IPython.display import Markdown, display"
   ]
  },
  {
   "cell_type": "code",
   "execution_count": 2,
   "metadata": {},
   "outputs": [],
   "source": [
    "def print_md(string):\n",
    "    display(Markdown(string))"
   ]
  },
  {
   "cell_type": "code",
   "execution_count": null,
   "metadata": {},
   "outputs": [],
   "source": [
    "#get topic from a excel file that contain list of topics\n",
    "timestamp = str(datetime.now().timestamp())\n",
    "topic = prompt.get_topic('short_topics.xlsx')\n",
    "\n",
    "#generate prompt from the topic\n",
    "prom = prompt.get_prom(topic, 3)\n",
    "\n",
    "print_md(f\"## {topic} \\n --- \\n ### prompt\\n  > {prom}\")"
   ]
  },
  {
   "cell_type": "code",
   "execution_count": 4,
   "metadata": {},
   "outputs": [],
   "source": [
    "#crete folder and write the promt inside master file\n",
    "folder = prompt.write_prom(topic, timestamp, prom, 'master.csv')"
   ]
  },
  {
   "cell_type": "code",
   "execution_count": 5,
   "metadata": {},
   "outputs": [],
   "source": [
    "#generate the Script from Gemini Pro 1.5\n",
    "scr, search_keys, title = script.gen_script(prom, folder)"
   ]
  },
  {
   "cell_type": "code",
   "execution_count": null,
   "metadata": {},
   "outputs": [],
   "source": [
    "#scrao Images form internet base of the script seach key\n",
    "images = image.scrap_image(search_keys, folder)\n",
    "\n",
    "# print_md('<p align=\"center\">')\n",
    "# for image in images:\n",
    "#     print_md(f'<img src=\"{image}\" width=\"200\" />')\n",
    "# print_md('</p>')"
   ]
  },
  {
   "cell_type": "code",
   "execution_count": null,
   "metadata": {},
   "outputs": [],
   "source": [
    "#generate the audio and subtitle with the script\n",
    "audios, subtitles = await vocal.gen_vocal(scr, folder)"
   ]
  },
  {
   "cell_type": "code",
   "execution_count": null,
   "metadata": {},
   "outputs": [],
   "source": [
    "# compose images, audios and subtitle and make it as one video\n",
    "video_path = video.create_video_with_audio(images, audios, folder)\n",
    "\n",
    "\n",
    "print_md(f\"\"\"<video width=\"640\" height=\"360\" controls>\n",
    "  <source src=\"{video_path}\" type=\"video/mp4\">\n",
    "  Your browser does not support the video tag.\n",
    "</video>\"\"\")"
   ]
  },
  {
   "cell_type": "code",
   "execution_count": 12,
   "metadata": {},
   "outputs": [],
   "source": [
    "# upload video to tiktok with seleniumbase\n",
    "uploader.upload(path=video_path, title=title)"
   ]
  }
 ],
 "metadata": {
  "kernelspec": {
   "display_name": "venv",
   "language": "python",
   "name": "python3"
  },
  "language_info": {
   "codemirror_mode": {
    "name": "ipython",
    "version": 3
   },
   "file_extension": ".py",
   "mimetype": "text/x-python",
   "name": "python",
   "nbconvert_exporter": "python",
   "pygments_lexer": "ipython3",
   "version": "3.12.5"
  }
 },
 "nbformat": 4,
 "nbformat_minor": 2
}
